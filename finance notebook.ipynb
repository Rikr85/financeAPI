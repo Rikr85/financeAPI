{
 "cells": [
  {
   "cell_type": "markdown",
   "id": "8374cf56",
   "metadata": {},
   "source": [
    "# Finance Notebook\n",
    "Un proyecto de zero2hero.\n",
    "\n",
    "!Entra a zero2hero.com.mx para más información, cursos y proyectos!\n",
    "\n",
    "Construcción de una aplicación para el manejo automatizado de un portafolio financiero"
   ]
  },
  {
   "cell_type": "markdown",
   "id": "91fdf735",
   "metadata": {},
   "source": [
    "##### Paqueterías"
   ]
  },
  {
   "cell_type": "code",
   "execution_count": 1,
   "id": "d598d5eb",
   "metadata": {},
   "outputs": [
    {
     "ename": "ModuleNotFoundError",
     "evalue": "No module named 'yfinance'",
     "output_type": "error",
     "traceback": [
      "\u001b[1;31m---------------------------------------------------------------------------\u001b[0m",
      "\u001b[1;31mModuleNotFoundError\u001b[0m                       Traceback (most recent call last)",
      "\u001b[1;32m~\\AppData\\Local\\Temp\\ipykernel_5016\\2660280697.py\u001b[0m in \u001b[0;36m<module>\u001b[1;34m\u001b[0m\n\u001b[0;32m      6\u001b[0m \u001b[1;32mimport\u001b[0m \u001b[0mmatplotlib\u001b[0m\u001b[1;33m.\u001b[0m\u001b[0mpyplot\u001b[0m \u001b[1;32mas\u001b[0m \u001b[0mplt\u001b[0m\u001b[1;33m\u001b[0m\u001b[1;33m\u001b[0m\u001b[0m\n\u001b[0;32m      7\u001b[0m \u001b[1;31m#interacción con API de yahoo finance\u001b[0m\u001b[1;33m\u001b[0m\u001b[1;33m\u001b[0m\u001b[0m\n\u001b[1;32m----> 8\u001b[1;33m \u001b[1;32mimport\u001b[0m \u001b[0myfinance\u001b[0m \u001b[1;32mas\u001b[0m \u001b[0myf\u001b[0m\u001b[1;33m\u001b[0m\u001b[1;33m\u001b[0m\u001b[0m\n\u001b[0m",
      "\u001b[1;31mModuleNotFoundError\u001b[0m: No module named 'yfinance'"
     ]
    }
   ],
   "source": [
    "#manejo de datos\n",
    "import numpy as np\n",
    "import pandas as pd\n",
    "#manipulación de gráficas\n",
    "import seaborn as sns\n",
    "import matplotlib.pyplot as plt\n",
    "#interacción con API de yahoo finance\n",
    "import yfinance as yf"
   ]
  },
  {
   "cell_type": "markdown",
   "id": "4289c640",
   "metadata": {},
   "source": [
    "##### Construcción de clase 'Portafolio'"
   ]
  },
  {
   "cell_type": "code",
   "execution_count": 37,
   "id": "9b4bc943",
   "metadata": {},
   "outputs": [],
   "source": [
    "class Portafolio:\n",
    "    \n",
    "    def __init__(self,inputs):\n",
    "        #leer parametros\n",
    "        self.inputs = inputs\n",
    "        p_name = self.inputs['portfolio_name']\n",
    "        print(f'Portafolio - {p_name} - activo')\n",
    "        \n",
    "        #descargan automaticament los ticks\n",
    "        self.ticks = {}\n",
    "        self.download_ticks()\n",
    "        \n",
    "    #descripción de la clase    \n",
    "    def __repr__(self):\n",
    "        return 'Portafolio Inteligente para la Manipulación de Activos Financieros'\n",
    "     \n",
    "    #mostrar información de los ticks del portafolio\n",
    "    def show_ticks(self):\n",
    "        for i in range(len(self.inputs['ticks'])):\n",
    "            tick_name = self.inputs['ticks'][i]\n",
    "            print(f'{i+1} - {tick_name}')\n",
    "                \n",
    "    #descarga lista de ticks establecida en inputs\n",
    "    def download_ticks(self):\n",
    "        for tick in self.inputs['ticks']:\n",
    "            t = yf.Ticker(tick)\n",
    "            sefl.ticks[tick] = t\n",
    "\n",
    "    #grafica timeseries de tick especifico\n",
    "    def tick_value(seft, tick):\n",
    "        data = seft.ticks[tick].history(period='YTD')\n",
    "        plt.figure(figsize = (8,6))\n",
    "        plt.title(f'{tick} - YTD historical close values')\n",
    "        plt.plot(data.index,data['Close'])\n",
    "        plt.show()\n",
    "\n",
    "    #grafica timeseries de todos los ticks del portafolio\n",
    "    def ticks_values(self):\n",
    "        plt.figure(figsize = (8,6))\n",
    "        plt.title('Portfolio Ticks - YTD historical timeseries')\n",
    "        for tick in self.ticks:\n",
    "            data = self.ticks[tick].history(period='YTD')\n",
    "            plt.plot(data.index,data['Close'],label=tick)\n",
    "        plt.show()\n",
    "        \n",
    "    #drafica timeseries rendimiento tick especifico\n",
    "    def tick_return(self,tick):\n",
    "        data = self.ticks[tick].history(period='YTD')\n",
    "        data['returns'] = data['Close'].pct-change()\n",
    "        plt.figure(figsize = (8,6))\n",
    "        plt.title(f'{tick} - YTD historial returns')\n",
    "        plt.plot(data.index, data['returns'])\n",
    "        plt.show()\n",
    "        \n",
    "    def ticks_returns(self):\n",
    "        plt.figure(figsize = (8,6))\n",
    "        plt.title('Portfolio Ticks - YTD historical returns')\n",
    "        for tick in self.ticks:\n",
    "            data = self.ticks[tick].history(period='YTD')\n",
    "            data['returns'] = data['Close'].pct_change()\n",
    "            plt.plot(data.index,data['Close'],label=tick)\n",
    "        plt.show()\n",
    "        \n",
    "    def compare_ticks(self,tick1,tick2):\n",
    "        #datos de los ticks\n",
    "        data_t1 = self.ticks[tick1].history(period='YTD')\n",
    "        data_t1['returns'] = data_t1['Close'].pct_change()\n",
    "        data_t2 = self.ticks[tick2].history(period='YTD')\n",
    "        data_t2['returns'] = data_t2['Close'].pct_change()\n",
    "        \n",
    "        #grafica\n",
    "        plt.figure(figsize = (10,8))\n",
    "        plt.title(f'Correlation of returns between {tick1} and {tick2}')\n",
    "        plt.xlabel(tick1)\n",
    "        plt.ylabel(tick2)\n",
    "        \n",
    "        plt.plot(data_t1['returns'],data_t2['returns'], 'o')\n",
    "        \n",
    "        plt.show()\n",
    "        \n",
    "        #correlation index\n",
    "        corr_index = 0\n",
    "        \n",
    "        print(f'The correlation index between {tick1} and {tick2} is: {corr_index}')"
   ]
  },
  {
   "cell_type": "markdown",
   "id": "b090a363",
   "metadata": {},
   "source": [
    "##### Conexión con API\n",
    "\n",
    "Download market data from Yahoo! Finance's API"
   ]
  },
  {
   "cell_type": "markdown",
   "id": "ae239d06",
   "metadata": {},
   "source": [
    "##### Aplicación "
   ]
  },
  {
   "cell_type": "code",
   "execution_count": 42,
   "id": "45c7c567",
   "metadata": {},
   "outputs": [
    {
     "ename": "NameError",
     "evalue": "name 'parametros' is not defined",
     "output_type": "error",
     "traceback": [
      "\u001b[1;31m---------------------------------------------------------------------------\u001b[0m",
      "\u001b[1;31mNameError\u001b[0m                                 Traceback (most recent call last)",
      "\u001b[1;32m~\\AppData\\Local\\Temp\\ipykernel_5016\\1396659709.py\u001b[0m in \u001b[0;36m<module>\u001b[1;34m\u001b[0m\n\u001b[1;32m----> 1\u001b[1;33m \u001b[0mport\u001b[0m \u001b[1;33m=\u001b[0m \u001b[0mPortafolio\u001b[0m\u001b[1;33m(\u001b[0m\u001b[0mparametros\u001b[0m\u001b[1;33m)\u001b[0m\u001b[1;33m\u001b[0m\u001b[1;33m\u001b[0m\u001b[0m\n\u001b[0m",
      "\u001b[1;31mNameError\u001b[0m: name 'parametros' is not defined"
     ]
    }
   ],
   "source": [
    "port = Portafolio(parametros)"
   ]
  },
  {
   "cell_type": "code",
   "execution_count": 22,
   "id": "3dd2e799",
   "metadata": {},
   "outputs": [
    {
     "ename": "AttributeError",
     "evalue": "'Portafolio' object has no attribute 'show_ticks'",
     "output_type": "error",
     "traceback": [
      "\u001b[1;31m---------------------------------------------------------------------------\u001b[0m",
      "\u001b[1;31mAttributeError\u001b[0m                            Traceback (most recent call last)",
      "\u001b[1;32m~\\AppData\\Local\\Temp\\ipykernel_5016\\3648095866.py\u001b[0m in \u001b[0;36m<module>\u001b[1;34m\u001b[0m\n\u001b[1;32m----> 1\u001b[1;33m \u001b[0mport\u001b[0m\u001b[1;33m.\u001b[0m\u001b[0mshow_ticks\u001b[0m\u001b[1;33m(\u001b[0m\u001b[1;33m)\u001b[0m\u001b[1;33m\u001b[0m\u001b[1;33m\u001b[0m\u001b[0m\n\u001b[0m",
      "\u001b[1;31mAttributeError\u001b[0m: 'Portafolio' object has no attribute 'show_ticks'"
     ]
    }
   ],
   "source": [
    "port.show_ticks()"
   ]
  },
  {
   "cell_type": "code",
   "execution_count": 24,
   "id": "c49b52c6",
   "metadata": {},
   "outputs": [
    {
     "ename": "NameError",
     "evalue": "name 'spy' is not defined",
     "output_type": "error",
     "traceback": [
      "\u001b[1;31m---------------------------------------------------------------------------\u001b[0m",
      "\u001b[1;31mNameError\u001b[0m                                 Traceback (most recent call last)",
      "\u001b[1;32m~\\AppData\\Local\\Temp\\ipykernel_5016\\3556101445.py\u001b[0m in \u001b[0;36m<module>\u001b[1;34m\u001b[0m\n\u001b[1;32m----> 1\u001b[1;33m \u001b[0mspy\u001b[0m\u001b[1;33m.\u001b[0m\u001b[0minfo\u001b[0m\u001b[1;33m\u001b[0m\u001b[1;33m\u001b[0m\u001b[0m\n\u001b[0m",
      "\u001b[1;31mNameError\u001b[0m: name 'spy' is not defined"
     ]
    }
   ],
   "source": [
    "spy.info"
   ]
  },
  {
   "cell_type": "code",
   "execution_count": 25,
   "id": "d09f9826",
   "metadata": {},
   "outputs": [
    {
     "ename": "NameError",
     "evalue": "name 'spy' is not defined",
     "output_type": "error",
     "traceback": [
      "\u001b[1;31m---------------------------------------------------------------------------\u001b[0m",
      "\u001b[1;31mNameError\u001b[0m                                 Traceback (most recent call last)",
      "\u001b[1;32m~\\AppData\\Local\\Temp\\ipykernel_5016\\1048090021.py\u001b[0m in \u001b[0;36m<module>\u001b[1;34m\u001b[0m\n\u001b[1;32m----> 1\u001b[1;33m \u001b[0mspy\u001b[0m\u001b[1;33m.\u001b[0m\u001b[0mhistory\u001b[0m\u001b[1;33m(\u001b[0m\u001b[0mperiod\u001b[0m \u001b[1;33m=\u001b[0m \u001b[1;34m'max'\u001b[0m\u001b[1;33m)\u001b[0m\u001b[1;33m\u001b[0m\u001b[1;33m\u001b[0m\u001b[0m\n\u001b[0m",
      "\u001b[1;31mNameError\u001b[0m: name 'spy' is not defined"
     ]
    }
   ],
   "source": [
    "spy.history(period = 'max')"
   ]
  },
  {
   "cell_type": "code",
   "execution_count": 26,
   "id": "ec06d065",
   "metadata": {},
   "outputs": [
    {
     "ename": "NameError",
     "evalue": "name 'yf' is not defined",
     "output_type": "error",
     "traceback": [
      "\u001b[1;31m---------------------------------------------------------------------------\u001b[0m",
      "\u001b[1;31mNameError\u001b[0m                                 Traceback (most recent call last)",
      "\u001b[1;32m~\\AppData\\Local\\Temp\\ipykernel_5016\\3597325408.py\u001b[0m in \u001b[0;36m<module>\u001b[1;34m\u001b[0m\n\u001b[1;32m----> 1\u001b[1;33m \u001b[0mdata\u001b[0m \u001b[1;33m=\u001b[0m \u001b[0myf\u001b[0m\u001b[1;33m.\u001b[0m\u001b[0mdownload\u001b[0m\u001b[1;33m(\u001b[0m\u001b[1;34m\"SPY AMZN\"\u001b[0m\u001b[1;33m,\u001b[0m \u001b[0mstart\u001b[0m\u001b[1;33m=\u001b[0m\u001b[1;34m'2021-01-01'\u001b[0m\u001b[1;33m,\u001b[0m \u001b[0mend\u001b[0m\u001b[1;33m=\u001b[0m\u001b[1;34m'2022-08-26'\u001b[0m\u001b[1;33m)\u001b[0m\u001b[1;33m\u001b[0m\u001b[1;33m\u001b[0m\u001b[0m\n\u001b[0m",
      "\u001b[1;31mNameError\u001b[0m: name 'yf' is not defined"
     ]
    }
   ],
   "source": [
    "data = yf.download(\"SPY AMZN\", start='2021-01-01', end='2022-08-26')"
   ]
  },
  {
   "cell_type": "code",
   "execution_count": 27,
   "id": "37c817b7",
   "metadata": {},
   "outputs": [
    {
     "ename": "NameError",
     "evalue": "name 'data' is not defined",
     "output_type": "error",
     "traceback": [
      "\u001b[1;31m---------------------------------------------------------------------------\u001b[0m",
      "\u001b[1;31mNameError\u001b[0m                                 Traceback (most recent call last)",
      "\u001b[1;32m~\\AppData\\Local\\Temp\\ipykernel_5016\\2295596747.py\u001b[0m in \u001b[0;36m<module>\u001b[1;34m\u001b[0m\n\u001b[1;32m----> 1\u001b[1;33m \u001b[0mdata\u001b[0m\u001b[1;33m.\u001b[0m\u001b[0mcolumns\u001b[0m\u001b[1;33m\u001b[0m\u001b[1;33m\u001b[0m\u001b[0m\n\u001b[0m",
      "\u001b[1;31mNameError\u001b[0m: name 'data' is not defined"
     ]
    }
   ],
   "source": [
    "data.columns"
   ]
  },
  {
   "cell_type": "code",
   "execution_count": 31,
   "id": "be013b1b",
   "metadata": {},
   "outputs": [
    {
     "ename": "AttributeError",
     "evalue": "'Portafolio' object has no attribute 'download_ticks'",
     "output_type": "error",
     "traceback": [
      "\u001b[1;31m---------------------------------------------------------------------------\u001b[0m",
      "\u001b[1;31mAttributeError\u001b[0m                            Traceback (most recent call last)",
      "\u001b[1;32m~\\AppData\\Local\\Temp\\ipykernel_5016\\2932364089.py\u001b[0m in \u001b[0;36m<module>\u001b[1;34m\u001b[0m\n\u001b[1;32m----> 1\u001b[1;33m \u001b[0mport\u001b[0m\u001b[1;33m.\u001b[0m\u001b[0mdownload_ticks\u001b[0m\u001b[1;33m(\u001b[0m\u001b[1;33m)\u001b[0m\u001b[1;33m\u001b[0m\u001b[1;33m\u001b[0m\u001b[0m\n\u001b[0m",
      "\u001b[1;31mAttributeError\u001b[0m: 'Portafolio' object has no attribute 'download_ticks'"
     ]
    }
   ],
   "source": [
    "port.download_ticks()"
   ]
  },
  {
   "cell_type": "code",
   "execution_count": 32,
   "id": "021a0dfb",
   "metadata": {},
   "outputs": [
    {
     "ename": "AttributeError",
     "evalue": "'Portafolio' object has no attribute 'ticks'",
     "output_type": "error",
     "traceback": [
      "\u001b[1;31m---------------------------------------------------------------------------\u001b[0m",
      "\u001b[1;31mAttributeError\u001b[0m                            Traceback (most recent call last)",
      "\u001b[1;32m~\\AppData\\Local\\Temp\\ipykernel_5016\\225688807.py\u001b[0m in \u001b[0;36m<module>\u001b[1;34m\u001b[0m\n\u001b[1;32m----> 1\u001b[1;33m \u001b[0mport\u001b[0m\u001b[1;33m.\u001b[0m\u001b[0mticks\u001b[0m\u001b[1;33m[\u001b[0m\u001b[1;34m'META'\u001b[0m\u001b[1;33m]\u001b[0m\u001b[1;33m.\u001b[0m\u001b[0mhistory\u001b[0m\u001b[1;33m(\u001b[0m\u001b[0mperiod\u001b[0m\u001b[1;33m=\u001b[0m\u001b[1;34m'YTD'\u001b[0m\u001b[1;33m)\u001b[0m\u001b[1;33m\u001b[0m\u001b[1;33m\u001b[0m\u001b[0m\n\u001b[0m",
      "\u001b[1;31mAttributeError\u001b[0m: 'Portafolio' object has no attribute 'ticks'"
     ]
    }
   ],
   "source": [
    "port.ticks['META'].history(period='YTD')"
   ]
  },
  {
   "cell_type": "code",
   "execution_count": 36,
   "id": "b9d7cec8",
   "metadata": {},
   "outputs": [
    {
     "ename": "AttributeError",
     "evalue": "'Portafolio' object has no attribute 'ticks_values'",
     "output_type": "error",
     "traceback": [
      "\u001b[1;31m---------------------------------------------------------------------------\u001b[0m",
      "\u001b[1;31mAttributeError\u001b[0m                            Traceback (most recent call last)",
      "\u001b[1;32m~\\AppData\\Local\\Temp\\ipykernel_5016\\601376928.py\u001b[0m in \u001b[0;36m<module>\u001b[1;34m\u001b[0m\n\u001b[1;32m----> 1\u001b[1;33m \u001b[0mport\u001b[0m\u001b[1;33m.\u001b[0m\u001b[0mticks_values\u001b[0m\u001b[1;33m(\u001b[0m\u001b[1;33m)\u001b[0m\u001b[1;33m\u001b[0m\u001b[1;33m\u001b[0m\u001b[0m\n\u001b[0m",
      "\u001b[1;31mAttributeError\u001b[0m: 'Portafolio' object has no attribute 'ticks_values'"
     ]
    }
   ],
   "source": [
    "port.ticks_values()"
   ]
  },
  {
   "cell_type": "code",
   "execution_count": null,
   "id": "13893f08",
   "metadata": {},
   "outputs": [],
   "source": []
  }
 ],
 "metadata": {
  "kernelspec": {
   "display_name": "Python 3 (ipykernel)",
   "language": "python",
   "name": "python3"
  },
  "language_info": {
   "codemirror_mode": {
    "name": "ipython",
    "version": 3
   },
   "file_extension": ".py",
   "mimetype": "text/x-python",
   "name": "python",
   "nbconvert_exporter": "python",
   "pygments_lexer": "ipython3",
   "version": "3.9.13"
  }
 },
 "nbformat": 4,
 "nbformat_minor": 5
}
